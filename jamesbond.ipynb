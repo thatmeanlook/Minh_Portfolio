{
 "cells": [
  {
   "cell_type": "markdown",
   "id": "fea0c914",
   "metadata": {},
   "source": [
    "## Project: James Bond"
   ]
  },
  {
   "cell_type": "code",
   "execution_count": 207,
   "id": "5fe0383c",
   "metadata": {},
   "outputs": [],
   "source": [
    "import pandas as pd\n",
    "import matplotlib.pyplot as plt\n",
    "import numpy as np\n",
    "import seaborn as sns\n",
    "import plotly.express as px\n",
    "import plotly.graph_objects as go\n",
    "from plotly.subplots import make_subplots\n",
    "import plotly.figure_factory as ff"
   ]
  },
  {
   "cell_type": "code",
   "execution_count": 355,
   "id": "fddf9727",
   "metadata": {
    "scrolled": true
   },
   "outputs": [
    {
     "data": {
      "text/html": [
       "<div>\n",
       "<style scoped>\n",
       "    .dataframe tbody tr th:only-of-type {\n",
       "        vertical-align: middle;\n",
       "    }\n",
       "\n",
       "    .dataframe tbody tr th {\n",
       "        vertical-align: top;\n",
       "    }\n",
       "\n",
       "    .dataframe thead th {\n",
       "        text-align: right;\n",
       "    }\n",
       "</style>\n",
       "<table border=\"1\" class=\"dataframe\">\n",
       "  <thead>\n",
       "    <tr style=\"text-align: right;\">\n",
       "      <th></th>\n",
       "      <th>Year</th>\n",
       "      <th>Movie</th>\n",
       "      <th>Bond</th>\n",
       "      <th>Director</th>\n",
       "      <th>Composer</th>\n",
       "      <th>Writer</th>\n",
       "      <th>Cinematographer</th>\n",
       "      <th>Depicted_Film_Loc</th>\n",
       "      <th>Shooting_Loc</th>\n",
       "      <th>Bond_Car_MFG</th>\n",
       "      <th>...</th>\n",
       "      <th>Film_Length</th>\n",
       "      <th>Avg_User_IMDB</th>\n",
       "      <th>Avg_User_Rtn_Tom</th>\n",
       "      <th>Conquests</th>\n",
       "      <th>Martinis</th>\n",
       "      <th>BJB</th>\n",
       "      <th>Kills_Bond</th>\n",
       "      <th>Kills_Others</th>\n",
       "      <th>Top_100</th>\n",
       "      <th>Video_Game</th>\n",
       "    </tr>\n",
       "  </thead>\n",
       "  <tbody>\n",
       "    <tr>\n",
       "      <th>0</th>\n",
       "      <td>1962</td>\n",
       "      <td>Dr. No</td>\n",
       "      <td>Sean Connery</td>\n",
       "      <td>Terence Young</td>\n",
       "      <td>Monty Norman</td>\n",
       "      <td>Richard Maibaum, Johanna Harwood &amp; Berkely Mather</td>\n",
       "      <td>Ted Moore</td>\n",
       "      <td>Great Britain, Jamaic</td>\n",
       "      <td>England, Jamaica</td>\n",
       "      <td>Sunbeam</td>\n",
       "      <td>...</td>\n",
       "      <td>110</td>\n",
       "      <td>7.30</td>\n",
       "      <td>7.70</td>\n",
       "      <td>3</td>\n",
       "      <td>2</td>\n",
       "      <td>1</td>\n",
       "      <td>4</td>\n",
       "      <td>8</td>\n",
       "      <td>0</td>\n",
       "      <td>0</td>\n",
       "    </tr>\n",
       "    <tr>\n",
       "      <th>1</th>\n",
       "      <td>1963</td>\n",
       "      <td>From Russia with Love</td>\n",
       "      <td>Sean Connery</td>\n",
       "      <td>Terence Young</td>\n",
       "      <td>John Barry</td>\n",
       "      <td>Richard Maibaum &amp; Johanna Harwood</td>\n",
       "      <td>Ted Moore</td>\n",
       "      <td>United Kingdom, Great Britain, Turkey, Croatia...</td>\n",
       "      <td>England, Scotland, Italy, Switzerland, Turkey</td>\n",
       "      <td>Bently</td>\n",
       "      <td>...</td>\n",
       "      <td>115</td>\n",
       "      <td>7.50</td>\n",
       "      <td>8.00</td>\n",
       "      <td>4</td>\n",
       "      <td>0</td>\n",
       "      <td>0</td>\n",
       "      <td>11</td>\n",
       "      <td>16</td>\n",
       "      <td>0</td>\n",
       "      <td>1</td>\n",
       "    </tr>\n",
       "    <tr>\n",
       "      <th>2</th>\n",
       "      <td>1964</td>\n",
       "      <td>Goldfinger</td>\n",
       "      <td>Sean Connery</td>\n",
       "      <td>Guy Hamilton</td>\n",
       "      <td>John Barry</td>\n",
       "      <td>Richard Maibaum &amp; Paul Dehn</td>\n",
       "      <td>Ted Moore</td>\n",
       "      <td>United States, Great Britain, Switzerland</td>\n",
       "      <td>England, Switzerland, United States</td>\n",
       "      <td>Aston Martin</td>\n",
       "      <td>...</td>\n",
       "      <td>110</td>\n",
       "      <td>7.80</td>\n",
       "      <td>8.40</td>\n",
       "      <td>2</td>\n",
       "      <td>1</td>\n",
       "      <td>2</td>\n",
       "      <td>9</td>\n",
       "      <td>68</td>\n",
       "      <td>1</td>\n",
       "      <td>1</td>\n",
       "    </tr>\n",
       "  </tbody>\n",
       "</table>\n",
       "<p>3 rows × 27 columns</p>\n",
       "</div>"
      ],
      "text/plain": [
       "   Year                  Movie          Bond       Director      Composer  \\\n",
       "0  1962                 Dr. No  Sean Connery  Terence Young  Monty Norman   \n",
       "1  1963  From Russia with Love  Sean Connery  Terence Young    John Barry   \n",
       "2  1964             Goldfinger  Sean Connery   Guy Hamilton    John Barry   \n",
       "\n",
       "                                              Writer Cinematographer  \\\n",
       "0  Richard Maibaum, Johanna Harwood & Berkely Mather       Ted Moore   \n",
       "1                  Richard Maibaum & Johanna Harwood       Ted Moore   \n",
       "2                        Richard Maibaum & Paul Dehn       Ted Moore   \n",
       "\n",
       "                                   Depicted_Film_Loc  \\\n",
       "0                              Great Britain, Jamaic   \n",
       "1  United Kingdom, Great Britain, Turkey, Croatia...   \n",
       "2          United States, Great Britain, Switzerland   \n",
       "\n",
       "                                    Shooting_Loc  Bond_Car_MFG  ...  \\\n",
       "0                               England, Jamaica       Sunbeam  ...   \n",
       "1  England, Scotland, Italy, Switzerland, Turkey        Bently  ...   \n",
       "2            England, Switzerland, United States  Aston Martin  ...   \n",
       "\n",
       "  Film_Length  Avg_User_IMDB  Avg_User_Rtn_Tom  Conquests  Martinis  BJB  \\\n",
       "0         110           7.30              7.70          3         2    1   \n",
       "1         115           7.50              8.00          4         0    0   \n",
       "2         110           7.80              8.40          2         1    2   \n",
       "\n",
       "   Kills_Bond  Kills_Others  Top_100  Video_Game  \n",
       "0           4             8        0           0  \n",
       "1          11            16        0           1  \n",
       "2           9            68        1           1  \n",
       "\n",
       "[3 rows x 27 columns]"
      ]
     },
     "execution_count": 355,
     "metadata": {},
     "output_type": "execute_result"
    }
   ],
   "source": [
    "df = pd.read_csv('jamesbond.csv')\n",
    "df.head(3)"
   ]
  },
  {
   "cell_type": "markdown",
   "id": "66ff5e03",
   "metadata": {},
   "source": [
    "## Clean up data"
   ]
  },
  {
   "cell_type": "code",
   "execution_count": 358,
   "id": "9ce1c005",
   "metadata": {
    "scrolled": true
   },
   "outputs": [
    {
     "data": {
      "text/html": [
       "<div>\n",
       "<style scoped>\n",
       "    .dataframe tbody tr th:only-of-type {\n",
       "        vertical-align: middle;\n",
       "    }\n",
       "\n",
       "    .dataframe tbody tr th {\n",
       "        vertical-align: top;\n",
       "    }\n",
       "\n",
       "    .dataframe thead th {\n",
       "        text-align: right;\n",
       "    }\n",
       "</style>\n",
       "<table border=\"1\" class=\"dataframe\">\n",
       "  <thead>\n",
       "    <tr style=\"text-align: right;\">\n",
       "      <th></th>\n",
       "      <th>Year</th>\n",
       "      <th>Movie</th>\n",
       "      <th>Bond</th>\n",
       "      <th>World_Adj</th>\n",
       "      <th>Budget_Adj</th>\n",
       "      <th>Avg_User_IMDB</th>\n",
       "      <th>Avg_User_Rtn_Tom</th>\n",
       "      <th>Shooting_Loc</th>\n",
       "    </tr>\n",
       "  </thead>\n",
       "  <tbody>\n",
       "    <tr>\n",
       "      <th>0</th>\n",
       "      <td>1962</td>\n",
       "      <td>Dr. No</td>\n",
       "      <td>Sean Connery</td>\n",
       "      <td>457928</td>\n",
       "      <td>7688</td>\n",
       "      <td>7.30</td>\n",
       "      <td>7.70</td>\n",
       "      <td>England, Jamaica</td>\n",
       "    </tr>\n",
       "    <tr>\n",
       "      <th>1</th>\n",
       "      <td>1963</td>\n",
       "      <td>From Russia with Love</td>\n",
       "      <td>Sean Connery</td>\n",
       "      <td>598624</td>\n",
       "      <td>15174</td>\n",
       "      <td>7.50</td>\n",
       "      <td>8.00</td>\n",
       "      <td>England, Scotland, Italy, Switzerland, Turkey</td>\n",
       "    </tr>\n",
       "    <tr>\n",
       "      <th>2</th>\n",
       "      <td>1964</td>\n",
       "      <td>Goldfinger</td>\n",
       "      <td>Sean Connery</td>\n",
       "      <td>935404</td>\n",
       "      <td>22468</td>\n",
       "      <td>7.80</td>\n",
       "      <td>8.40</td>\n",
       "      <td>England, Switzerland, United States</td>\n",
       "    </tr>\n",
       "    <tr>\n",
       "      <th>3</th>\n",
       "      <td>1965</td>\n",
       "      <td>Thunderball</td>\n",
       "      <td>Sean Connery</td>\n",
       "      <td>1040693</td>\n",
       "      <td>66333</td>\n",
       "      <td>7.00</td>\n",
       "      <td>6.80</td>\n",
       "      <td>England, France, Bahamas, United States</td>\n",
       "    </tr>\n",
       "    <tr>\n",
       "      <th>4</th>\n",
       "      <td>1967</td>\n",
       "      <td>You Only Live Twice</td>\n",
       "      <td>Sean Connery</td>\n",
       "      <td>775740</td>\n",
       "      <td>66035</td>\n",
       "      <td>6.90</td>\n",
       "      <td>6.30</td>\n",
       "      <td>Japan, Spain, Norway</td>\n",
       "    </tr>\n",
       "    <tr>\n",
       "      <th>5</th>\n",
       "      <td>1969</td>\n",
       "      <td>On Her Majesty's Secret Service</td>\n",
       "      <td>George Lazenby</td>\n",
       "      <td>518736</td>\n",
       "      <td>50608</td>\n",
       "      <td>6.80</td>\n",
       "      <td>6.70</td>\n",
       "      <td>England, Switzerland, Portugal</td>\n",
       "    </tr>\n",
       "    <tr>\n",
       "      <th>6</th>\n",
       "      <td>1971</td>\n",
       "      <td>Diamonds Are Forever</td>\n",
       "      <td>Sean Connery</td>\n",
       "      <td>664969</td>\n",
       "      <td>41274</td>\n",
       "      <td>6.70</td>\n",
       "      <td>6.30</td>\n",
       "      <td>England, France, Germany, Netherlands, United ...</td>\n",
       "    </tr>\n",
       "    <tr>\n",
       "      <th>7</th>\n",
       "      <td>1973</td>\n",
       "      <td>Live and Let Die</td>\n",
       "      <td>Roger Moore</td>\n",
       "      <td>846046</td>\n",
       "      <td>36603</td>\n",
       "      <td>6.80</td>\n",
       "      <td>5.90</td>\n",
       "      <td>England, United States, Jamaica</td>\n",
       "    </tr>\n",
       "    <tr>\n",
       "      <th>8</th>\n",
       "      <td>1974</td>\n",
       "      <td>The Man with the Golden Gun</td>\n",
       "      <td>Roger Moore</td>\n",
       "      <td>459623</td>\n",
       "      <td>32965</td>\n",
       "      <td>6.70</td>\n",
       "      <td>5.10</td>\n",
       "      <td>England, Thailand, Hong Kong, Portugal</td>\n",
       "    </tr>\n",
       "    <tr>\n",
       "      <th>9</th>\n",
       "      <td>1977</td>\n",
       "      <td>The Spy Who Loved Me</td>\n",
       "      <td>Roger Moore</td>\n",
       "      <td>710290</td>\n",
       "      <td>53636</td>\n",
       "      <td>7.10</td>\n",
       "      <td>6.80</td>\n",
       "      <td>England, Switzerland, Canada, Scotland, Egypt,...</td>\n",
       "    </tr>\n",
       "    <tr>\n",
       "      <th>10</th>\n",
       "      <td>1979</td>\n",
       "      <td>Moonraker</td>\n",
       "      <td>Roger Moore</td>\n",
       "      <td>672514</td>\n",
       "      <td>99134</td>\n",
       "      <td>6.20</td>\n",
       "      <td>5.70</td>\n",
       "      <td>England, France, Italy, United States, Brazil,...</td>\n",
       "    </tr>\n",
       "    <tr>\n",
       "      <th>11</th>\n",
       "      <td>1981</td>\n",
       "      <td>For Your Eyes Only</td>\n",
       "      <td>Roger Moore</td>\n",
       "      <td>498812</td>\n",
       "      <td>71514</td>\n",
       "      <td>6.80</td>\n",
       "      <td>6.30</td>\n",
       "      <td>England, Italy, Malta, Greece</td>\n",
       "    </tr>\n",
       "    <tr>\n",
       "      <th>12</th>\n",
       "      <td>1983</td>\n",
       "      <td>Octopussy</td>\n",
       "      <td>Roger Moore</td>\n",
       "      <td>437059</td>\n",
       "      <td>64102</td>\n",
       "      <td>6.50</td>\n",
       "      <td>5.30</td>\n",
       "      <td>England, West Berlin, India</td>\n",
       "    </tr>\n",
       "    <tr>\n",
       "      <th>13</th>\n",
       "      <td>1985</td>\n",
       "      <td>A View to a Kill</td>\n",
       "      <td>Roger Moore</td>\n",
       "      <td>329322</td>\n",
       "      <td>64730</td>\n",
       "      <td>6.20</td>\n",
       "      <td>4.70</td>\n",
       "      <td>England, Switzerland, Iceland, France, United ...</td>\n",
       "    </tr>\n",
       "    <tr>\n",
       "      <th>14</th>\n",
       "      <td>1987</td>\n",
       "      <td>The Living Daylights</td>\n",
       "      <td>Timothy Dalton</td>\n",
       "      <td>390758</td>\n",
       "      <td>81749</td>\n",
       "      <td>6.70</td>\n",
       "      <td>6.30</td>\n",
       "      <td>England, Germany, Austria, Italy, Morocco</td>\n",
       "    </tr>\n",
       "    <tr>\n",
       "      <th>15</th>\n",
       "      <td>1989</td>\n",
       "      <td>License to Kill</td>\n",
       "      <td>Timothy Dalton</td>\n",
       "      <td>292392</td>\n",
       "      <td>78637</td>\n",
       "      <td>6.50</td>\n",
       "      <td>6.00</td>\n",
       "      <td>Mexico, United States</td>\n",
       "    </tr>\n",
       "    <tr>\n",
       "      <th>16</th>\n",
       "      <td>1995</td>\n",
       "      <td>GoldenEye</td>\n",
       "      <td>Pierce Brosnan</td>\n",
       "      <td>542985</td>\n",
       "      <td>91404</td>\n",
       "      <td>7.20</td>\n",
       "      <td>6.90</td>\n",
       "      <td>England, France, Monaco, Switzerland, Russia, ...</td>\n",
       "    </tr>\n",
       "    <tr>\n",
       "      <th>17</th>\n",
       "      <td>1997</td>\n",
       "      <td>Tomorrow Never Dies</td>\n",
       "      <td>Pierce Brosnan</td>\n",
       "      <td>491098</td>\n",
       "      <td>159117</td>\n",
       "      <td>6.40</td>\n",
       "      <td>6.00</td>\n",
       "      <td>England, France, Germany, Thailand</td>\n",
       "    </tr>\n",
       "    <tr>\n",
       "      <th>18</th>\n",
       "      <td>1999</td>\n",
       "      <td>The World Is Not Enough</td>\n",
       "      <td>Pierce Brosnan</td>\n",
       "      <td>504091</td>\n",
       "      <td>188130</td>\n",
       "      <td>6.30</td>\n",
       "      <td>5.70</td>\n",
       "      <td>England, Scotland, France, Spain, Turkey, Azer...</td>\n",
       "    </tr>\n",
       "    <tr>\n",
       "      <th>19</th>\n",
       "      <td>2002</td>\n",
       "      <td>Die Another Day</td>\n",
       "      <td>Pierce Brosnan</td>\n",
       "      <td>557433</td>\n",
       "      <td>183255</td>\n",
       "      <td>6.00</td>\n",
       "      <td>6.10</td>\n",
       "      <td>England, Spain, Iceland, Norway, United States</td>\n",
       "    </tr>\n",
       "    <tr>\n",
       "      <th>20</th>\n",
       "      <td>2006</td>\n",
       "      <td>Casino Royale</td>\n",
       "      <td>Daniel Craig</td>\n",
       "      <td>686784</td>\n",
       "      <td>117465</td>\n",
       "      <td>7.90</td>\n",
       "      <td>7.80</td>\n",
       "      <td>England, Italy, Czech republic, Bahamas, Unite...</td>\n",
       "    </tr>\n",
       "    <tr>\n",
       "      <th>21</th>\n",
       "      <td>2008</td>\n",
       "      <td>Quantum of Solace</td>\n",
       "      <td>Daniel Craig</td>\n",
       "      <td>638035</td>\n",
       "      <td>248014</td>\n",
       "      <td>6.70</td>\n",
       "      <td>6.10</td>\n",
       "      <td>England, Italy, Spain, Panama, Mexico, Chile, ...</td>\n",
       "    </tr>\n",
       "    <tr>\n",
       "      <th>22</th>\n",
       "      <td>2012</td>\n",
       "      <td>Skyfall</td>\n",
       "      <td>Daniel Craig</td>\n",
       "      <td>1120980</td>\n",
       "      <td>202240</td>\n",
       "      <td>7.80</td>\n",
       "      <td>8.20</td>\n",
       "      <td>England, Scotland, Turkey, China</td>\n",
       "    </tr>\n",
       "    <tr>\n",
       "      <th>23</th>\n",
       "      <td>2015</td>\n",
       "      <td>Spectre</td>\n",
       "      <td>Daniel Craig</td>\n",
       "      <td>864553</td>\n",
       "      <td>240803</td>\n",
       "      <td>6.80</td>\n",
       "      <td>6.40</td>\n",
       "      <td>England, Austria, Italy, Vatican City, Mexico,...</td>\n",
       "    </tr>\n",
       "  </tbody>\n",
       "</table>\n",
       "</div>"
      ],
      "text/plain": [
       "    Year                            Movie            Bond  World_Adj  \\\n",
       "0   1962                           Dr. No    Sean Connery     457928   \n",
       "1   1963            From Russia with Love    Sean Connery     598624   \n",
       "2   1964                       Goldfinger    Sean Connery     935404   \n",
       "3   1965                      Thunderball    Sean Connery    1040693   \n",
       "4   1967              You Only Live Twice    Sean Connery     775740   \n",
       "5   1969  On Her Majesty's Secret Service  George Lazenby     518736   \n",
       "6   1971             Diamonds Are Forever    Sean Connery     664969   \n",
       "7   1973                 Live and Let Die     Roger Moore     846046   \n",
       "8   1974      The Man with the Golden Gun     Roger Moore     459623   \n",
       "9   1977             The Spy Who Loved Me     Roger Moore     710290   \n",
       "10  1979                        Moonraker     Roger Moore     672514   \n",
       "11  1981               For Your Eyes Only     Roger Moore     498812   \n",
       "12  1983                        Octopussy     Roger Moore     437059   \n",
       "13  1985                 A View to a Kill     Roger Moore     329322   \n",
       "14  1987             The Living Daylights  Timothy Dalton     390758   \n",
       "15  1989                  License to Kill  Timothy Dalton     292392   \n",
       "16  1995                        GoldenEye  Pierce Brosnan     542985   \n",
       "17  1997              Tomorrow Never Dies  Pierce Brosnan     491098   \n",
       "18  1999          The World Is Not Enough  Pierce Brosnan     504091   \n",
       "19  2002                  Die Another Day  Pierce Brosnan     557433   \n",
       "20  2006                    Casino Royale    Daniel Craig     686784   \n",
       "21  2008                Quantum of Solace    Daniel Craig     638035   \n",
       "22  2012                          Skyfall    Daniel Craig    1120980   \n",
       "23  2015                          Spectre    Daniel Craig     864553   \n",
       "\n",
       "    Budget_Adj  Avg_User_IMDB  Avg_User_Rtn_Tom  \\\n",
       "0         7688           7.30              7.70   \n",
       "1        15174           7.50              8.00   \n",
       "2        22468           7.80              8.40   \n",
       "3        66333           7.00              6.80   \n",
       "4        66035           6.90              6.30   \n",
       "5        50608           6.80              6.70   \n",
       "6        41274           6.70              6.30   \n",
       "7        36603           6.80              5.90   \n",
       "8        32965           6.70              5.10   \n",
       "9        53636           7.10              6.80   \n",
       "10       99134           6.20              5.70   \n",
       "11       71514           6.80              6.30   \n",
       "12       64102           6.50              5.30   \n",
       "13       64730           6.20              4.70   \n",
       "14       81749           6.70              6.30   \n",
       "15       78637           6.50              6.00   \n",
       "16       91404           7.20              6.90   \n",
       "17      159117           6.40              6.00   \n",
       "18      188130           6.30              5.70   \n",
       "19      183255           6.00              6.10   \n",
       "20      117465           7.90              7.80   \n",
       "21      248014           6.70              6.10   \n",
       "22      202240           7.80              8.20   \n",
       "23      240803           6.80              6.40   \n",
       "\n",
       "                                         Shooting_Loc  \n",
       "0                                    England, Jamaica  \n",
       "1       England, Scotland, Italy, Switzerland, Turkey  \n",
       "2                 England, Switzerland, United States  \n",
       "3             England, France, Bahamas, United States  \n",
       "4                                Japan, Spain, Norway  \n",
       "5                      England, Switzerland, Portugal  \n",
       "6   England, France, Germany, Netherlands, United ...  \n",
       "7                     England, United States, Jamaica  \n",
       "8              England, Thailand, Hong Kong, Portugal  \n",
       "9   England, Switzerland, Canada, Scotland, Egypt,...  \n",
       "10  England, France, Italy, United States, Brazil,...  \n",
       "11                      England, Italy, Malta, Greece  \n",
       "12                        England, West Berlin, India  \n",
       "13  England, Switzerland, Iceland, France, United ...  \n",
       "14          England, Germany, Austria, Italy, Morocco  \n",
       "15                              Mexico, United States  \n",
       "16  England, France, Monaco, Switzerland, Russia, ...  \n",
       "17                 England, France, Germany, Thailand  \n",
       "18  England, Scotland, France, Spain, Turkey, Azer...  \n",
       "19     England, Spain, Iceland, Norway, United States  \n",
       "20  England, Italy, Czech republic, Bahamas, Unite...  \n",
       "21  England, Italy, Spain, Panama, Mexico, Chile, ...  \n",
       "22                   England, Scotland, Turkey, China  \n",
       "23  England, Austria, Italy, Vatican City, Mexico,...  "
      ]
     },
     "execution_count": 358,
     "metadata": {},
     "output_type": "execute_result"
    }
   ],
   "source": [
    "bond = df.get(['Year','Movie','Bond','World_Adj','Budget_Adj','Avg_User_IMDB','Avg_User_Rtn_Tom','Shooting_Loc'])\n",
    "bond"
   ]
  },
  {
   "cell_type": "markdown",
   "id": "c30b4564",
   "metadata": {},
   "source": [
    "## Rating over the year"
   ]
  },
  {
   "cell_type": "code",
   "execution_count": 353,
   "id": "86376a3d",
   "metadata": {
    "scrolled": false
   },
   "outputs": [
    {
     "data": {
      "text/plain": [
       "Text(0, 0.5, 'Average Rating')"
      ]
     },
     "execution_count": 353,
     "metadata": {},
     "output_type": "execute_result"
    },
    {
     "data": {
      "image/png": "[encoded data removed]",
      "text/plain": [
       "<Figure size 864x360 with 1 Axes>"
      ]
     },
     "metadata": {},
     "output_type": "display_data"
    }
   ],
   "source": [
    "rating = 0.5*(bond.get('Avg_User_IMDB')+bond.get('Avg_User_Rtn_Tom'))\n",
    "bond = bond.assign(Avg_Rating=rating)\n",
    "sns.set_theme(style=\"whitegrid\")\n",
    "f, ax = plt.subplots(figsize=(12, 5))\n",
    "sns.lineplot(data=bond, x=\"Year\", y=\"Avg_Rating\", marker='o').set_title('Average Rating of James Bond Movies Over The Year', fontsize=\"16\")\n",
    "plt.xlabel('')\n",
    "plt.ylabel('Average Rating', fontsize = '12')"
   ]
  },
  {
   "cell_type": "markdown",
   "id": "6f67de51",
   "metadata": {},
   "source": [
    "## Who is the most favorite Bond? "
   ]
  },
  {
   "cell_type": "code",
   "execution_count": 345,
   "id": "68af291d",
   "metadata": {},
   "outputs": [
    {
     "data": {
      "text/html": [
       "<div>\n",
       "<style scoped>\n",
       "    .dataframe tbody tr th:only-of-type {\n",
       "        vertical-align: middle;\n",
       "    }\n",
       "\n",
       "    .dataframe tbody tr th {\n",
       "        vertical-align: top;\n",
       "    }\n",
       "\n",
       "    .dataframe thead th {\n",
       "        text-align: right;\n",
       "    }\n",
       "</style>\n",
       "<table border=\"1\" class=\"dataframe\">\n",
       "  <thead>\n",
       "    <tr style=\"text-align: right;\">\n",
       "      <th></th>\n",
       "      <th>Avg_Rating</th>\n",
       "    </tr>\n",
       "    <tr>\n",
       "      <th>Bond</th>\n",
       "      <th></th>\n",
       "    </tr>\n",
       "  </thead>\n",
       "  <tbody>\n",
       "    <tr>\n",
       "      <th>Sean Connery</th>\n",
       "      <td>7.23</td>\n",
       "    </tr>\n",
       "    <tr>\n",
       "      <th>Daniel Craig</th>\n",
       "      <td>7.21</td>\n",
       "    </tr>\n",
       "    <tr>\n",
       "      <th>George Lazenby</th>\n",
       "      <td>6.75</td>\n",
       "    </tr>\n",
       "    <tr>\n",
       "      <th>Timothy Dalton</th>\n",
       "      <td>6.38</td>\n",
       "    </tr>\n",
       "    <tr>\n",
       "      <th>Pierce Brosnan</th>\n",
       "      <td>6.33</td>\n",
       "    </tr>\n",
       "    <tr>\n",
       "      <th>Roger Moore</th>\n",
       "      <td>6.15</td>\n",
       "    </tr>\n",
       "  </tbody>\n",
       "</table>\n",
       "</div>"
      ],
      "text/plain": [
       "                Avg_Rating\n",
       "Bond                      \n",
       "Sean Connery          7.23\n",
       "Daniel Craig          7.21\n",
       "George Lazenby        6.75\n",
       "Timothy Dalton        6.38\n",
       "Pierce Brosnan        6.33\n",
       "Roger Moore           6.15"
      ]
     },
     "execution_count": 345,
     "metadata": {},
     "output_type": "execute_result"
    }
   ],
   "source": [
    "bond_rate = bond.groupby('Bond').mean().sort_values('Avg_Rating', ascending=False).get(['Avg_Rating'])\n",
    "bond_rate"
   ]
  },
  {
   "cell_type": "code",
   "execution_count": 346,
   "id": "e162488f",
   "metadata": {
    "scrolled": true
   },
   "outputs": [
    {
     "data": {
      "text/html": [
       "<div>\n",
       "<style scoped>\n",
       "    .dataframe tbody tr th:only-of-type {\n",
       "        vertical-align: middle;\n",
       "    }\n",
       "\n",
       "    .dataframe tbody tr th {\n",
       "        vertical-align: top;\n",
       "    }\n",
       "\n",
       "    .dataframe thead th {\n",
       "        text-align: right;\n",
       "    }\n",
       "</style>\n",
       "<table border=\"1\" class=\"dataframe\">\n",
       "  <thead>\n",
       "    <tr style=\"text-align: right;\">\n",
       "      <th></th>\n",
       "      <th>Year</th>\n",
       "      <th>Bond</th>\n",
       "      <th>Avg_User_IMDB</th>\n",
       "      <th>Avg_User_Rtn_Tom</th>\n",
       "      <th>Avg_Rating</th>\n",
       "    </tr>\n",
       "  </thead>\n",
       "  <tbody>\n",
       "    <tr>\n",
       "      <th>0</th>\n",
       "      <td>1962</td>\n",
       "      <td>Sean Connery</td>\n",
       "      <td>7.30</td>\n",
       "      <td>7.70</td>\n",
       "      <td>7.50</td>\n",
       "    </tr>\n",
       "    <tr>\n",
       "      <th>1</th>\n",
       "      <td>1963</td>\n",
       "      <td>Sean Connery</td>\n",
       "      <td>7.50</td>\n",
       "      <td>8.00</td>\n",
       "      <td>7.75</td>\n",
       "    </tr>\n",
       "    <tr>\n",
       "      <th>2</th>\n",
       "      <td>1964</td>\n",
       "      <td>Sean Connery</td>\n",
       "      <td>7.80</td>\n",
       "      <td>8.40</td>\n",
       "      <td>8.10</td>\n",
       "    </tr>\n",
       "    <tr>\n",
       "      <th>3</th>\n",
       "      <td>1965</td>\n",
       "      <td>Sean Connery</td>\n",
       "      <td>7.00</td>\n",
       "      <td>6.80</td>\n",
       "      <td>6.90</td>\n",
       "    </tr>\n",
       "    <tr>\n",
       "      <th>4</th>\n",
       "      <td>1967</td>\n",
       "      <td>Sean Connery</td>\n",
       "      <td>6.90</td>\n",
       "      <td>6.30</td>\n",
       "      <td>6.60</td>\n",
       "    </tr>\n",
       "    <tr>\n",
       "      <th>5</th>\n",
       "      <td>1969</td>\n",
       "      <td>George Lazenby</td>\n",
       "      <td>6.80</td>\n",
       "      <td>6.70</td>\n",
       "      <td>6.75</td>\n",
       "    </tr>\n",
       "    <tr>\n",
       "      <th>6</th>\n",
       "      <td>1971</td>\n",
       "      <td>Sean Connery</td>\n",
       "      <td>6.70</td>\n",
       "      <td>6.30</td>\n",
       "      <td>6.50</td>\n",
       "    </tr>\n",
       "    <tr>\n",
       "      <th>7</th>\n",
       "      <td>1973</td>\n",
       "      <td>Roger Moore</td>\n",
       "      <td>6.80</td>\n",
       "      <td>5.90</td>\n",
       "      <td>6.35</td>\n",
       "    </tr>\n",
       "    <tr>\n",
       "      <th>8</th>\n",
       "      <td>1974</td>\n",
       "      <td>Roger Moore</td>\n",
       "      <td>6.70</td>\n",
       "      <td>5.10</td>\n",
       "      <td>5.90</td>\n",
       "    </tr>\n",
       "    <tr>\n",
       "      <th>9</th>\n",
       "      <td>1977</td>\n",
       "      <td>Roger Moore</td>\n",
       "      <td>7.10</td>\n",
       "      <td>6.80</td>\n",
       "      <td>6.95</td>\n",
       "    </tr>\n",
       "    <tr>\n",
       "      <th>10</th>\n",
       "      <td>1979</td>\n",
       "      <td>Roger Moore</td>\n",
       "      <td>6.20</td>\n",
       "      <td>5.70</td>\n",
       "      <td>5.95</td>\n",
       "    </tr>\n",
       "    <tr>\n",
       "      <th>11</th>\n",
       "      <td>1981</td>\n",
       "      <td>Roger Moore</td>\n",
       "      <td>6.80</td>\n",
       "      <td>6.30</td>\n",
       "      <td>6.55</td>\n",
       "    </tr>\n",
       "    <tr>\n",
       "      <th>12</th>\n",
       "      <td>1983</td>\n",
       "      <td>Roger Moore</td>\n",
       "      <td>6.50</td>\n",
       "      <td>5.30</td>\n",
       "      <td>5.90</td>\n",
       "    </tr>\n",
       "    <tr>\n",
       "      <th>13</th>\n",
       "      <td>1985</td>\n",
       "      <td>Roger Moore</td>\n",
       "      <td>6.20</td>\n",
       "      <td>4.70</td>\n",
       "      <td>5.45</td>\n",
       "    </tr>\n",
       "    <tr>\n",
       "      <th>14</th>\n",
       "      <td>1987</td>\n",
       "      <td>Timothy Dalton</td>\n",
       "      <td>6.70</td>\n",
       "      <td>6.30</td>\n",
       "      <td>6.50</td>\n",
       "    </tr>\n",
       "    <tr>\n",
       "      <th>15</th>\n",
       "      <td>1989</td>\n",
       "      <td>Timothy Dalton</td>\n",
       "      <td>6.50</td>\n",
       "      <td>6.00</td>\n",
       "      <td>6.25</td>\n",
       "    </tr>\n",
       "    <tr>\n",
       "      <th>16</th>\n",
       "      <td>1995</td>\n",
       "      <td>Pierce Brosnan</td>\n",
       "      <td>7.20</td>\n",
       "      <td>6.90</td>\n",
       "      <td>7.05</td>\n",
       "    </tr>\n",
       "    <tr>\n",
       "      <th>17</th>\n",
       "      <td>1997</td>\n",
       "      <td>Pierce Brosnan</td>\n",
       "      <td>6.40</td>\n",
       "      <td>6.00</td>\n",
       "      <td>6.20</td>\n",
       "    </tr>\n",
       "    <tr>\n",
       "      <th>18</th>\n",
       "      <td>1999</td>\n",
       "      <td>Pierce Brosnan</td>\n",
       "      <td>6.30</td>\n",
       "      <td>5.70</td>\n",
       "      <td>6.00</td>\n",
       "    </tr>\n",
       "    <tr>\n",
       "      <th>19</th>\n",
       "      <td>2002</td>\n",
       "      <td>Pierce Brosnan</td>\n",
       "      <td>6.00</td>\n",
       "      <td>6.10</td>\n",
       "      <td>6.05</td>\n",
       "    </tr>\n",
       "    <tr>\n",
       "      <th>20</th>\n",
       "      <td>2006</td>\n",
       "      <td>Daniel Craig</td>\n",
       "      <td>7.90</td>\n",
       "      <td>7.80</td>\n",
       "      <td>7.85</td>\n",
       "    </tr>\n",
       "    <tr>\n",
       "      <th>21</th>\n",
       "      <td>2008</td>\n",
       "      <td>Daniel Craig</td>\n",
       "      <td>6.70</td>\n",
       "      <td>6.10</td>\n",
       "      <td>6.40</td>\n",
       "    </tr>\n",
       "    <tr>\n",
       "      <th>22</th>\n",
       "      <td>2012</td>\n",
       "      <td>Daniel Craig</td>\n",
       "      <td>7.80</td>\n",
       "      <td>8.20</td>\n",
       "      <td>8.00</td>\n",
       "    </tr>\n",
       "    <tr>\n",
       "      <th>23</th>\n",
       "      <td>2015</td>\n",
       "      <td>Daniel Craig</td>\n",
       "      <td>6.80</td>\n",
       "      <td>6.40</td>\n",
       "      <td>6.60</td>\n",
       "    </tr>\n",
       "  </tbody>\n",
       "</table>\n",
       "</div>"
      ],
      "text/plain": [
       "    Year            Bond  Avg_User_IMDB  Avg_User_Rtn_Tom  Avg_Rating\n",
       "0   1962    Sean Connery           7.30              7.70        7.50\n",
       "1   1963    Sean Connery           7.50              8.00        7.75\n",
       "2   1964    Sean Connery           7.80              8.40        8.10\n",
       "3   1965    Sean Connery           7.00              6.80        6.90\n",
       "4   1967    Sean Connery           6.90              6.30        6.60\n",
       "5   1969  George Lazenby           6.80              6.70        6.75\n",
       "6   1971    Sean Connery           6.70              6.30        6.50\n",
       "7   1973     Roger Moore           6.80              5.90        6.35\n",
       "8   1974     Roger Moore           6.70              5.10        5.90\n",
       "9   1977     Roger Moore           7.10              6.80        6.95\n",
       "10  1979     Roger Moore           6.20              5.70        5.95\n",
       "11  1981     Roger Moore           6.80              6.30        6.55\n",
       "12  1983     Roger Moore           6.50              5.30        5.90\n",
       "13  1985     Roger Moore           6.20              4.70        5.45\n",
       "14  1987  Timothy Dalton           6.70              6.30        6.50\n",
       "15  1989  Timothy Dalton           6.50              6.00        6.25\n",
       "16  1995  Pierce Brosnan           7.20              6.90        7.05\n",
       "17  1997  Pierce Brosnan           6.40              6.00        6.20\n",
       "18  1999  Pierce Brosnan           6.30              5.70        6.00\n",
       "19  2002  Pierce Brosnan           6.00              6.10        6.05\n",
       "20  2006    Daniel Craig           7.90              7.80        7.85\n",
       "21  2008    Daniel Craig           6.70              6.10        6.40\n",
       "22  2012    Daniel Craig           7.80              8.20        8.00\n",
       "23  2015    Daniel Craig           6.80              6.40        6.60"
      ]
     },
     "execution_count": 346,
     "metadata": {},
     "output_type": "execute_result"
    }
   ],
   "source": [
    "bond.get(['Year','Bond','Avg_User_IMDB','Avg_User_Rtn_Tom','Avg_Rating'])"
   ]
  },
  {
   "cell_type": "markdown",
   "id": "a8853400",
   "metadata": {},
   "source": [
    "## How well do Bond movies do commercialy?"
   ]
  },
  {
   "cell_type": "code",
   "execution_count": 337,
   "id": "f1176b5c",
   "metadata": {},
   "outputs": [
    {
     "data": {
      "text/plain": [
       "Text(0, 0.5, '')"
      ]
     },
     "execution_count": 337,
     "metadata": {},
     "output_type": "execute_result"
    },
    {
     "data": {
      "image/png": "[encoded data removed]",
      "text/plain": [
       "<Figure size 576x720 with 1 Axes>"
      ]
     },
     "metadata": {},
     "output_type": "display_data"
    }
   ],
   "source": [
    "bond = bond.assign(World_Adj2=bond.get(['World_Adj'])/1e3, Budget_Adj2=bond.get(['Budget_Adj'])/1e3 )\n",
    "sns.set_theme(style=\"whitegrid\")\n",
    "f=plt.figure(figsize=(8, 10))\n",
    "sns.set_color_codes('pastel')\n",
    "sns.barplot(data=bond.sort_values(by='World_Adj', ascending=False), x='World_Adj2', y='Movie', color='b' ,\n",
    "            saturation = 1, label='World Revenue') #palette='crest'\n",
    "sns.barplot(data=bond.sort_values(by='World_Adj', ascending=False), x='Budget_Adj2', y='Movie', \n",
    "            color='coral', saturation = 1, label='Budget', alpha=0.8) #palette='flare'\n",
    "f.legend(ncol=1, loc=\"lower right\", frameon=True, borderaxespad=6)\n",
    "#f.set(ylabel=\"\", xlabel=\"US dollars\", title=\"Budget vs. Revenue of each Movie\")\n",
    "f.suptitle('Revenue and Budget of Each Movie', fontsize= 16, y=0.92)\n",
    "plt.xlabel(\"US Dollar (Million)\\n \")\n",
    "plt.ylabel('')"
   ]
  },
  {
   "cell_type": "code",
   "execution_count": 338,
   "id": "61001b4d",
   "metadata": {},
   "outputs": [
    {
     "data": {
      "text/plain": [
       "Text(0.5, 0.92, 'Revenue/Budget Ratio of Each Movie')"
      ]
     },
     "execution_count": 338,
     "metadata": {},
     "output_type": "execute_result"
    },
    {
     "data": {
      "image/png": "[encoded data removed]",
      "text/plain": [
       "<Figure size 576x720 with 1 Axes>"
      ]
     },
     "metadata": {},
     "output_type": "display_data"
    }
   ],
   "source": [
    "from IPython.display import display\n",
    "pd.options.display.float_format = '{:,.2f}'.format\n",
    "bond = bond.assign(ratio=bond.get('World_Adj')/bond.get('Budget_Adj'))\n",
    "f=plt.figure(figsize = (8, 10))\n",
    "sns.set_color_codes('pastel')\n",
    "sns.barplot(data=bond.sort_values(by='ratio', ascending=False), x='ratio', y='Movie', color='darkcyan',\n",
    "            saturation = 0.8, label='World Revenue').set(xlabel=None, ylabel=None)\n",
    "f.suptitle('Revenue/Budget Ratio of Each Movie', fontsize= 16, y=0.92)"
   ]
  },
  {
   "cell_type": "markdown",
   "id": "f06cc22b",
   "metadata": {},
   "source": [
    "## Shooting Location in Bond Movies"
   ]
  },
  {
   "cell_type": "code",
   "execution_count": 343,
   "id": "b6464dcc",
   "metadata": {},
   "outputs": [
    {
     "data": {
      "text/html": [
       "<div>\n",
       "<style scoped>\n",
       "    .dataframe tbody tr th:only-of-type {\n",
       "        vertical-align: middle;\n",
       "    }\n",
       "\n",
       "    .dataframe tbody tr th {\n",
       "        vertical-align: top;\n",
       "    }\n",
       "\n",
       "    .dataframe thead th {\n",
       "        text-align: right;\n",
       "    }\n",
       "</style>\n",
       "<table border=\"1\" class=\"dataframe\">\n",
       "  <thead>\n",
       "    <tr style=\"text-align: right;\">\n",
       "      <th></th>\n",
       "      <th>Country</th>\n",
       "      <th>Appearance</th>\n",
       "    </tr>\n",
       "  </thead>\n",
       "  <tbody>\n",
       "    <tr>\n",
       "      <th>12</th>\n",
       "      <td>Guatemala</td>\n",
       "      <td>1</td>\n",
       "    </tr>\n",
       "    <tr>\n",
       "      <th>22</th>\n",
       "      <td>Morocco</td>\n",
       "      <td>1</td>\n",
       "    </tr>\n",
       "    <tr>\n",
       "      <th>21</th>\n",
       "      <td>Monaco</td>\n",
       "      <td>1</td>\n",
       "    </tr>\n",
       "    <tr>\n",
       "      <th>20</th>\n",
       "      <td>Mexico</td>\n",
       "      <td>1</td>\n",
       "    </tr>\n",
       "    <tr>\n",
       "      <th>37</th>\n",
       "      <td>Mexico</td>\n",
       "      <td>1</td>\n",
       "    </tr>\n",
       "    <tr>\n",
       "      <th>18</th>\n",
       "      <td>Japan</td>\n",
       "      <td>1</td>\n",
       "    </tr>\n",
       "    <tr>\n",
       "      <th>27</th>\n",
       "      <td>Puerto Rico</td>\n",
       "      <td>1</td>\n",
       "    </tr>\n",
       "    <tr>\n",
       "      <th>15</th>\n",
       "      <td>India</td>\n",
       "      <td>1</td>\n",
       "    </tr>\n",
       "    <tr>\n",
       "      <th>28</th>\n",
       "      <td>Russia</td>\n",
       "      <td>1</td>\n",
       "    </tr>\n",
       "    <tr>\n",
       "      <th>13</th>\n",
       "      <td>Hong Kong</td>\n",
       "      <td>1</td>\n",
       "    </tr>\n",
       "    <tr>\n",
       "      <th>23</th>\n",
       "      <td>Netherlands</td>\n",
       "      <td>1</td>\n",
       "    </tr>\n",
       "    <tr>\n",
       "      <th>25</th>\n",
       "      <td>Panama</td>\n",
       "      <td>1</td>\n",
       "    </tr>\n",
       "    <tr>\n",
       "      <th>35</th>\n",
       "      <td>West Berlin</td>\n",
       "      <td>1</td>\n",
       "    </tr>\n",
       "    <tr>\n",
       "      <th>8</th>\n",
       "      <td>Egypt</td>\n",
       "      <td>1</td>\n",
       "    </tr>\n",
       "    <tr>\n",
       "      <th>7</th>\n",
       "      <td>Czech republic</td>\n",
       "      <td>1</td>\n",
       "    </tr>\n",
       "    <tr>\n",
       "      <th>6</th>\n",
       "      <td>China</td>\n",
       "      <td>1</td>\n",
       "    </tr>\n",
       "    <tr>\n",
       "      <th>5</th>\n",
       "      <td>Chile</td>\n",
       "      <td>1</td>\n",
       "    </tr>\n",
       "    <tr>\n",
       "      <th>4</th>\n",
       "      <td>Canada</td>\n",
       "      <td>1</td>\n",
       "    </tr>\n",
       "    <tr>\n",
       "      <th>3</th>\n",
       "      <td>Brazil</td>\n",
       "      <td>1</td>\n",
       "    </tr>\n",
       "    <tr>\n",
       "      <th>36</th>\n",
       "      <td>Japan</td>\n",
       "      <td>1</td>\n",
       "    </tr>\n",
       "    <tr>\n",
       "      <th>1</th>\n",
       "      <td>Azerbaijan</td>\n",
       "      <td>1</td>\n",
       "    </tr>\n",
       "    <tr>\n",
       "      <th>11</th>\n",
       "      <td>Greece</td>\n",
       "      <td>1</td>\n",
       "    </tr>\n",
       "    <tr>\n",
       "      <th>32</th>\n",
       "      <td>Thailand</td>\n",
       "      <td>2</td>\n",
       "    </tr>\n",
       "    <tr>\n",
       "      <th>26</th>\n",
       "      <td>Portugal</td>\n",
       "      <td>2</td>\n",
       "    </tr>\n",
       "    <tr>\n",
       "      <th>0</th>\n",
       "      <td>Austria</td>\n",
       "      <td>2</td>\n",
       "    </tr>\n",
       "    <tr>\n",
       "      <th>19</th>\n",
       "      <td>Malta</td>\n",
       "      <td>2</td>\n",
       "    </tr>\n",
       "    <tr>\n",
       "      <th>17</th>\n",
       "      <td>Jamaica</td>\n",
       "      <td>2</td>\n",
       "    </tr>\n",
       "    <tr>\n",
       "      <th>14</th>\n",
       "      <td>Iceland</td>\n",
       "      <td>2</td>\n",
       "    </tr>\n",
       "    <tr>\n",
       "      <th>24</th>\n",
       "      <td>Norway</td>\n",
       "      <td>2</td>\n",
       "    </tr>\n",
       "    <tr>\n",
       "      <th>10</th>\n",
       "      <td>Germany</td>\n",
       "      <td>3</td>\n",
       "    </tr>\n",
       "    <tr>\n",
       "      <th>33</th>\n",
       "      <td>Turkey</td>\n",
       "      <td>3</td>\n",
       "    </tr>\n",
       "    <tr>\n",
       "      <th>2</th>\n",
       "      <td>Bahamas</td>\n",
       "      <td>3</td>\n",
       "    </tr>\n",
       "    <tr>\n",
       "      <th>29</th>\n",
       "      <td>Scotland</td>\n",
       "      <td>4</td>\n",
       "    </tr>\n",
       "    <tr>\n",
       "      <th>30</th>\n",
       "      <td>Spain</td>\n",
       "      <td>4</td>\n",
       "    </tr>\n",
       "    <tr>\n",
       "      <th>31</th>\n",
       "      <td>Switzerland</td>\n",
       "      <td>6</td>\n",
       "    </tr>\n",
       "    <tr>\n",
       "      <th>16</th>\n",
       "      <td>Italy</td>\n",
       "      <td>7</td>\n",
       "    </tr>\n",
       "    <tr>\n",
       "      <th>9</th>\n",
       "      <td>France</td>\n",
       "      <td>7</td>\n",
       "    </tr>\n",
       "    <tr>\n",
       "      <th>34</th>\n",
       "      <td>United States</td>\n",
       "      <td>9</td>\n",
       "    </tr>\n",
       "    <tr>\n",
       "      <th>38</th>\n",
       "      <td>United Kingdom</td>\n",
       "      <td>21</td>\n",
       "    </tr>\n",
       "  </tbody>\n",
       "</table>\n",
       "</div>"
      ],
      "text/plain": [
       "            Country  Appearance\n",
       "12        Guatemala           1\n",
       "22          Morocco           1\n",
       "21           Monaco           1\n",
       "20           Mexico           1\n",
       "37           Mexico           1\n",
       "18            Japan           1\n",
       "27      Puerto Rico           1\n",
       "15            India           1\n",
       "28           Russia           1\n",
       "13        Hong Kong           1\n",
       "23      Netherlands           1\n",
       "25           Panama           1\n",
       "35      West Berlin           1\n",
       "8             Egypt           1\n",
       "7    Czech republic           1\n",
       "6             China           1\n",
       "5             Chile           1\n",
       "4            Canada           1\n",
       "3            Brazil           1\n",
       "36            Japan           1\n",
       "1        Azerbaijan           1\n",
       "11           Greece           1\n",
       "32         Thailand           2\n",
       "26         Portugal           2\n",
       "0           Austria           2\n",
       "19            Malta           2\n",
       "17          Jamaica           2\n",
       "14          Iceland           2\n",
       "24           Norway           2\n",
       "10          Germany           3\n",
       "33           Turkey           3\n",
       "2           Bahamas           3\n",
       "29         Scotland           4\n",
       "30            Spain           4\n",
       "31      Switzerland           6\n",
       "16            Italy           7\n",
       "9            France           7\n",
       "34    United States           9\n",
       "38   United Kingdom          21"
      ]
     },
     "execution_count": 343,
     "metadata": {},
     "output_type": "execute_result"
    }
   ],
   "source": [
    "all_movie_loc = bond.get('Shooting_Loc')\n",
    "loc_list = []\n",
    "for i in range(0, len(all_movie_loc)-1):\n",
    "    each_movie_loc = all_movie_loc[i].split(',')\n",
    "    loc_list = loc_list + each_movie_loc\n",
    "loc_list = ['United Kingdom' if x=='England' else x for x in loc_list]\n",
    "yy = np.unique(loc_list, return_counts=True)\n",
    "df_loc = pd.DataFrame(yy[0],yy[1])\n",
    "df_loc = pd.DataFrame().assign(Country=loc_list, Appearance=loc_list).groupby('Country').count().reset_index()\n",
    "df_loc.sort_values(by='Appearance')"
   ]
  },
  {
   "cell_type": "code",
   "execution_count": 340,
   "id": "699d6a9a",
   "metadata": {
    "scrolled": true
   },
   "outputs": [
    {
     "data": {
      "application/vnd.plotly.v1+json": {
       "config": {
        "plotlyServerURL": "https://plot.ly"
       },
       "data": [
        {
         "coloraxis": "coloraxis",
         "customdata": [
          [
           " Austria"
          ],
          [
           " Azerbaijan"
          ],
          [
           " Bahamas"
          ],
          [
           " Brazil"
          ],
          [
           " Canada"
          ],
          [
           " Chile"
          ],
          [
           " China"
          ],
          [
           " Czech republic"
          ],
          [
           " Egypt"
          ],
          [
           " France"
          ],
          [
           " Germany"
          ],
          [
           " Greece"
          ],
          [
           " Guatemala"
          ],
          [
           " Hong Kong"
          ],
          [
           " Iceland"
          ],
          [
           " India"
          ],
          [
           " Italy"
          ],
          [
           " Jamaica"
          ],
          [
           " Japan"
          ],
          [
           " Malta"
          ],
          [
           " Mexico"
          ],
          [
           " Monaco"
          ],
          [
           " Morocco"
          ],
          [
           " Netherlands"
          ],
          [
           " Norway"
          ],
          [
           " Panama"
          ],
          [
           " Portugal"
          ],
          [
           " Puerto Rico"
          ],
          [
           " Russia"
          ],
          [
           " Scotland"
          ],
          [
           " Spain"
          ],
          [
           " Switzerland"
          ],
          [
           " Thailand"
          ],
          [
           " Turkey"
          ],
          [
           " United States"
          ],
          [
           " West Berlin"
          ],
          [
           "Japan"
          ],
          [
           "Mexico"
          ],
          [
           "United Kingdom"
          ]
         ],
         "geo": "geo",
         "hovertemplate": "<b>%{hovertext}</b><br><br>Appearance=%{z}<extra></extra>",
         "hovertext": [
          " Austria",
          " Azerbaijan",
          " Bahamas",
          " Brazil",
          " Canada",
          " Chile",
          " China",
          " Czech republic",
          " Egypt",
          " France",
          " Germany",
          " Greece",
          " Guatemala",
          " Hong Kong",
          " Iceland",
          " India",
          " Italy",
          " Jamaica",
          " Japan",
          " Malta",
          " Mexico",
          " Monaco",
          " Morocco",
          " Netherlands",
          " Norway",
          " Panama",
          " Portugal",
          " Puerto Rico",
          " Russia",
          " Scotland",
          " Spain",
          " Switzerland",
          " Thailand",
          " Turkey",
          " United States",
          " West Berlin",
          "Japan",
          "Mexico",
          "United Kingdom"
         ],
         "locationmode": "country names",
         "locations": [
          " Austria",
          " Azerbaijan",
          " Bahamas",
          " Brazil",
          " Canada",
          " Chile",
          " China",
          " Czech republic",
          " Egypt",
          " France",
          " Germany",
          " Greece",
          " Guatemala",
          " Hong Kong",
          " Iceland",
          " India",
          " Italy",
          " Jamaica",
          " Japan",
          " Malta",
          " Mexico",
          " Monaco",
          " Morocco",
          " Netherlands",
          " Norway",
          " Panama",
          " Portugal",
          " Puerto Rico",
          " Russia",
          " Scotland",
          " Spain",
          " Switzerland",
          " Thailand",
          " Turkey",
          " United States",
          " West Berlin",
          "Japan",
          "Mexico",
          "United Kingdom"
         ],
         "name": "",
         "type": "choropleth",
         "z": [
          2,
          1,
          3,
          1,
          1,
          1,
          1,
          1,
          1,
          7,
          3,
          1,
          1,
          1,
          2,
          1,
          7,
          2,
          1,
          2,
          1,
          1,
          1,
          1,
          2,
          1,
          2,
          1,
          1,
          4,
          4,
          6,
          2,
          3,
          9,
          1,
          1,
          1,
          21
         ]
        }
       ],
       "layout": {
        "coloraxis": {
         "colorbar": {
          "title": {
           "text": "Appearance"
          }
         },
         "colorscale": [
          [
           0,
           "rgb(246, 210, 169)"
          ],
          [
           0.16666666666666666,
           "rgb(245, 183, 142)"
          ],
          [
           0.3333333333333333,
           "rgb(241, 156, 124)"
          ],
          [
           0.5,
           "rgb(234, 129, 113)"
          ],
          [
           0.6666666666666666,
           "rgb(221, 104, 108)"
          ],
          [
           0.8333333333333334,
           "rgb(202, 82, 104)"
          ],
          [
           1,
           "rgb(177, 63, 100)"
          ]
         ]
        },
        "geo": {
         "center": {},
         "domain": {
          "x": [
           0,
           1
          ],
          "y": [
           0,
           1
          ]
         }
        },
        "legend": {
         "tracegroupgap": 0
        },
        "template": {
         "data": {
          "bar": [
           {
            "error_x": {
             "color": "#2a3f5f"
            },
            "error_y": {
             "color": "#2a3f5f"
            },
            "marker": {
             "line": {
              "color": "#E5ECF6",
              "width": 0.5
             },
             "pattern": {
              "fillmode": "overlay",
              "size": 10,
              "solidity": 0.2
             }
            },
            "type": "bar"
           }
          ],
          "barpolar": [
           {
            "marker": {
             "line": {
              "color": "#E5ECF6",
              "width": 0.5
             },
             "pattern": {
              "fillmode": "overlay",
              "size": 10,
              "solidity": 0.2
             }
            },
            "type": "barpolar"
           }
          ],
          "carpet": [
           {
            "aaxis": {
             "endlinecolor": "#2a3f5f",
             "gridcolor": "white",
             "linecolor": "white",
             "minorgridcolor": "white",
             "startlinecolor": "#2a3f5f"
            },
            "baxis": {
             "endlinecolor": "#2a3f5f",
             "gridcolor": "white",
             "linecolor": "white",
             "minorgridcolor": "white",
             "startlinecolor": "#2a3f5f"
            },
            "type": "carpet"
           }
          ],
          "choropleth": [
           {
            "colorbar": {
             "outlinewidth": 0,
             "ticks": ""
            },
            "type": "choropleth"
           }
          ],
          "contour": [
           {
            "colorbar": {
             "outlinewidth": 0,
             "ticks": ""
            },
            "colorscale": [
             [
              0,
              "#0d0887"
             ],
             [
              0.1111111111111111,
              "#46039f"
             ],
             [
              0.2222222222222222,
              "#7201a8"
             ],
             [
              0.3333333333333333,
              "#9c179e"
             ],
             [
              0.4444444444444444,
              "#bd3786"
             ],
             [
              0.5555555555555556,
              "#d8576b"
             ],
             [
              0.6666666666666666,
              "#ed7953"
             ],
             [
              0.7777777777777778,
              "#fb9f3a"
             ],
             [
              0.8888888888888888,
              "#fdca26"
             ],
             [
              1,
              "#f0f921"
             ]
            ],
            "type": "contour"
           }
          ],
          "contourcarpet": [
           {
            "colorbar": {
             "outlinewidth": 0,
             "ticks": ""
            },
            "type": "contourcarpet"
           }
          ],
          "heatmap": [
           {
            "colorbar": {
             "outlinewidth": 0,
             "ticks": ""
            },
            "colorscale": [
             [
              0,
              "#0d0887"
             ],
             [
              0.1111111111111111,
              "#46039f"
             ],
             [
              0.2222222222222222,
              "#7201a8"
             ],
             [
              0.3333333333333333,
              "#9c179e"
             ],
             [
              0.4444444444444444,
              "#bd3786"
             ],
             [
              0.5555555555555556,
              "#d8576b"
             ],
             [
              0.6666666666666666,
              "#ed7953"
             ],
             [
              0.7777777777777778,
              "#fb9f3a"
             ],
             [
              0.8888888888888888,
              "#fdca26"
             ],
             [
              1,
              "#f0f921"
             ]
            ],
            "type": "heatmap"
           }
          ],
          "heatmapgl": [
           {
            "colorbar": {
             "outlinewidth": 0,
             "ticks": ""
            },
            "colorscale": [
             [
              0,
              "#0d0887"
             ],
             [
              0.1111111111111111,
              "#46039f"
             ],
             [
              0.2222222222222222,
              "#7201a8"
             ],
             [
              0.3333333333333333,
              "#9c179e"
             ],
             [
              0.4444444444444444,
              "#bd3786"
             ],
             [
              0.5555555555555556,
              "#d8576b"
             ],
             [
              0.6666666666666666,
              "#ed7953"
             ],
             [
              0.7777777777777778,
              "#fb9f3a"
             ],
             [
              0.8888888888888888,
              "#fdca26"
             ],
             [
              1,
              "#f0f921"
             ]
            ],
            "type": "heatmapgl"
           }
          ],
          "histogram": [
           {
            "marker": {
             "pattern": {
              "fillmode": "overlay",
              "size": 10,
              "solidity": 0.2
             }
            },
            "type": "histogram"
           }
          ],
          "histogram2d": [
           {
            "colorbar": {
             "outlinewidth": 0,
             "ticks": ""
            },
            "colorscale": [
             [
              0,
              "#0d0887"
             ],
             [
              0.1111111111111111,
              "#46039f"
             ],
             [
              0.2222222222222222,
              "#7201a8"
             ],
             [
              0.3333333333333333,
              "#9c179e"
             ],
             [
              0.4444444444444444,
              "#bd3786"
             ],
             [
              0.5555555555555556,
              "#d8576b"
             ],
             [
              0.6666666666666666,
              "#ed7953"
             ],
             [
              0.7777777777777778,
              "#fb9f3a"
             ],
             [
              0.8888888888888888,
              "#fdca26"
             ],
             [
              1,
              "#f0f921"
             ]
            ],
            "type": "histogram2d"
           }
          ],
          "histogram2dcontour": [
           {
            "colorbar": {
             "outlinewidth": 0,
             "ticks": ""
            },
            "colorscale": [
             [
              0,
              "#0d0887"
             ],
             [
              0.1111111111111111,
              "#46039f"
             ],
             [
              0.2222222222222222,
              "#7201a8"
             ],
             [
              0.3333333333333333,
              "#9c179e"
             ],
             [
              0.4444444444444444,
              "#bd3786"
             ],
             [
              0.5555555555555556,
              "#d8576b"
             ],
             [
              0.6666666666666666,
              "#ed7953"
             ],
             [
              0.7777777777777778,
              "#fb9f3a"
             ],
             [
              0.8888888888888888,
              "#fdca26"
             ],
             [
              1,
              "#f0f921"
             ]
            ],
            "type": "histogram2dcontour"
           }
          ],
          "mesh3d": [
           {
            "colorbar": {
             "outlinewidth": 0,
             "ticks": ""
            },
            "type": "mesh3d"
           }
          ],
          "parcoords": [
           {
            "line": {
             "colorbar": {
              "outlinewidth": 0,
              "ticks": ""
             }
            },
            "type": "parcoords"
           }
          ],
          "pie": [
           {
            "automargin": true,
            "type": "pie"
           }
          ],
          "scatter": [
           {
            "marker": {
             "colorbar": {
              "outlinewidth": 0,
              "ticks": ""
             }
            },
            "type": "scatter"
           }
          ],
          "scatter3d": [
           {
            "line": {
             "colorbar": {
              "outlinewidth": 0,
              "ticks": ""
             }
            },
            "marker": {
             "colorbar": {
              "outlinewidth": 0,
              "ticks": ""
             }
            },
            "type": "scatter3d"
           }
          ],
          "scattercarpet": [
           {
            "marker": {
             "colorbar": {
              "outlinewidth": 0,
              "ticks": ""
             }
            },
            "type": "scattercarpet"
           }
          ],
          "scattergeo": [
           {
            "marker": {
             "colorbar": {
              "outlinewidth": 0,
              "ticks": ""
             }
            },
            "type": "scattergeo"
           }
          ],
          "scattergl": [
           {
            "marker": {
             "colorbar": {
              "outlinewidth": 0,
              "ticks": ""
             }
            },
            "type": "scattergl"
           }
          ],
          "scattermapbox": [
           {
            "marker": {
             "colorbar": {
              "outlinewidth": 0,
              "ticks": ""
             }
            },
            "type": "scattermapbox"
           }
          ],
          "scatterpolar": [
           {
            "marker": {
             "colorbar": {
              "outlinewidth": 0,
              "ticks": ""
             }
            },
            "type": "scatterpolar"
           }
          ],
          "scatterpolargl": [
           {
            "marker": {
             "colorbar": {
              "outlinewidth": 0,
              "ticks": ""
             }
            },
            "type": "scatterpolargl"
           }
          ],
          "scatterternary": [
           {
            "marker": {
             "colorbar": {
              "outlinewidth": 0,
              "ticks": ""
             }
            },
            "type": "scatterternary"
           }
          ],
          "surface": [
           {
            "colorbar": {
             "outlinewidth": 0,
             "ticks": ""
            },
            "colorscale": [
             [
              0,
              "#0d0887"
             ],
             [
              0.1111111111111111,
              "#46039f"
             ],
             [
              0.2222222222222222,
              "#7201a8"
             ],
             [
              0.3333333333333333,
              "#9c179e"
             ],
             [
              0.4444444444444444,
              "#bd3786"
             ],
             [
              0.5555555555555556,
              "#d8576b"
             ],
             [
              0.6666666666666666,
              "#ed7953"
             ],
             [
              0.7777777777777778,
              "#fb9f3a"
             ],
             [
              0.8888888888888888,
              "#fdca26"
             ],
             [
              1,
              "#f0f921"
             ]
            ],
            "type": "surface"
           }
          ],
          "table": [
           {
            "cells": {
             "fill": {
              "color": "#EBF0F8"
             },
             "line": {
              "color": "white"
             }
            },
            "header": {
             "fill": {
              "color": "#C8D4E3"
             },
             "line": {
              "color": "white"
             }
            },
            "type": "table"
           }
          ]
         },
         "layout": {
          "annotationdefaults": {
           "arrowcolor": "#2a3f5f",
           "arrowhead": 0,
           "arrowwidth": 1
          },
          "autotypenumbers": "strict",
          "coloraxis": {
           "colorbar": {
            "outlinewidth": 0,
            "ticks": ""
           }
          },
          "colorscale": {
           "diverging": [
            [
             0,
             "#8e0152"
            ],
            [
             0.1,
             "#c51b7d"
            ],
            [
             0.2,
             "#de77ae"
            ],
            [
             0.3,
             "#f1b6da"
            ],
            [
             0.4,
             "#fde0ef"
            ],
            [
             0.5,
             "#f7f7f7"
            ],
            [
             0.6,
             "#e6f5d0"
            ],
            [
             0.7,
             "#b8e186"
            ],
            [
             0.8,
             "#7fbc41"
            ],
            [
             0.9,
             "#4d9221"
            ],
            [
             1,
             "#276419"
            ]
           ],
           "sequential": [
            [
             0,
             "#0d0887"
            ],
            [
             0.1111111111111111,
             "#46039f"
            ],
            [
             0.2222222222222222,
             "#7201a8"
            ],
            [
             0.3333333333333333,
             "#9c179e"
            ],
            [
             0.4444444444444444,
             "#bd3786"
            ],
            [
             0.5555555555555556,
             "#d8576b"
            ],
            [
             0.6666666666666666,
             "#ed7953"
            ],
            [
             0.7777777777777778,
             "#fb9f3a"
            ],
            [
             0.8888888888888888,
             "#fdca26"
            ],
            [
             1,
             "#f0f921"
            ]
           ],
           "sequentialminus": [
            [
             0,
             "#0d0887"
            ],
            [
             0.1111111111111111,
             "#46039f"
            ],
            [
             0.2222222222222222,
             "#7201a8"
            ],
            [
             0.3333333333333333,
             "#9c179e"
            ],
            [
             0.4444444444444444,
             "#bd3786"
            ],
            [
             0.5555555555555556,
             "#d8576b"
            ],
            [
             0.6666666666666666,
             "#ed7953"
            ],
            [
             0.7777777777777778,
             "#fb9f3a"
            ],
            [
             0.8888888888888888,
             "#fdca26"
            ],
            [
             1,
             "#f0f921"
            ]
           ]
          },
          "colorway": [
           "#636efa",
           "#EF553B",
           "#00cc96",
           "#ab63fa",
           "#FFA15A",
           "#19d3f3",
           "#FF6692",
           "#B6E880",
           "#FF97FF",
           "#FECB52"
          ],
          "font": {
           "color": "#2a3f5f"
          },
          "geo": {
           "bgcolor": "white",
           "lakecolor": "white",
           "landcolor": "#E5ECF6",
           "showlakes": true,
           "showland": true,
           "subunitcolor": "white"
          },
          "hoverlabel": {
           "align": "left"
          },
          "hovermode": "closest",
          "mapbox": {
           "style": "light"
          },
          "paper_bgcolor": "white",
          "plot_bgcolor": "#E5ECF6",
          "polar": {
           "angularaxis": {
            "gridcolor": "white",
            "linecolor": "white",
            "ticks": ""
           },
           "bgcolor": "#E5ECF6",
           "radialaxis": {
            "gridcolor": "white",
            "linecolor": "white",
            "ticks": ""
           }
          },
          "scene": {
           "xaxis": {
            "backgroundcolor": "#E5ECF6",
            "gridcolor": "white",
            "gridwidth": 2,
            "linecolor": "white",
            "showbackground": true,
            "ticks": "",
            "zerolinecolor": "white"
           },
           "yaxis": {
            "backgroundcolor": "#E5ECF6",
            "gridcolor": "white",
            "gridwidth": 2,
            "linecolor": "white",
            "showbackground": true,
            "ticks": "",
            "zerolinecolor": "white"
           },
           "zaxis": {
            "backgroundcolor": "#E5ECF6",
            "gridcolor": "white",
            "gridwidth": 2,
            "linecolor": "white",
            "showbackground": true,
            "ticks": "",
            "zerolinecolor": "white"
           }
          },
          "shapedefaults": {
           "line": {
            "color": "#2a3f5f"
           }
          },
          "ternary": {
           "aaxis": {
            "gridcolor": "white",
            "linecolor": "white",
            "ticks": ""
           },
           "baxis": {
            "gridcolor": "white",
            "linecolor": "white",
            "ticks": ""
           },
           "bgcolor": "#E5ECF6",
           "caxis": {
            "gridcolor": "white",
            "linecolor": "white",
            "ticks": ""
           }
          },
          "title": {
           "x": 0.05
          },
          "xaxis": {
           "automargin": true,
           "gridcolor": "white",
           "linecolor": "white",
           "ticks": "",
           "title": {
            "standoff": 15
           },
           "zerolinecolor": "white",
           "zerolinewidth": 2
          },
          "yaxis": {
           "automargin": true,
           "gridcolor": "white",
           "linecolor": "white",
           "ticks": "",
           "title": {
            "standoff": 15
           },
           "zerolinecolor": "white",
           "zerolinewidth": 2
          }
         }
        },
        "title": {
         "text": "Locations in James Bond movies"
        }
       }
      },
      "text/html": [
       "<div>                            <div id=\"69568a9e-5ff2-4aa8-ac71-7665a21f0c86\" class=\"plotly-graph-div\" style=\"height:525px; width:100%;\"></div>            <script type=\"text/javascript\">                require([\"plotly\"], function(Plotly) {                    window.PLOTLYENV=window.PLOTLYENV || {};                                    if (document.getElementById(\"69568a9e-5ff2-4aa8-ac71-7665a21f0c86\")) {                    Plotly.newPlot(                        \"69568a9e-5ff2-4aa8-ac71-7665a21f0c86\",                        [{\"coloraxis\":\"coloraxis\",\"customdata\":[[\" Austria\"],[\" Azerbaijan\"],[\" Bahamas\"],[\" Brazil\"],[\" Canada\"],[\" Chile\"],[\" China\"],[\" Czech republic\"],[\" Egypt\"],[\" France\"],[\" Germany\"],[\" Greece\"],[\" Guatemala\"],[\" Hong Kong\"],[\" Iceland\"],[\" India\"],[\" Italy\"],[\" Jamaica\"],[\" Japan\"],[\" Malta\"],[\" Mexico\"],[\" Monaco\"],[\" Morocco\"],[\" Netherlands\"],[\" Norway\"],[\" Panama\"],[\" Portugal\"],[\" Puerto Rico\"],[\" Russia\"],[\" Scotland\"],[\" Spain\"],[\" Switzerland\"],[\" Thailand\"],[\" Turkey\"],[\" United States\"],[\" West Berlin\"],[\"Japan\"],[\"Mexico\"],[\"United Kingdom\"]],\"geo\":\"geo\",\"hovertemplate\":\"<b>%{hovertext}</b><br><br>Appearance=%{z}<extra></extra>\",\"hovertext\":[\" Austria\",\" Azerbaijan\",\" Bahamas\",\" Brazil\",\" Canada\",\" Chile\",\" China\",\" Czech republic\",\" Egypt\",\" France\",\" Germany\",\" Greece\",\" Guatemala\",\" Hong Kong\",\" Iceland\",\" India\",\" Italy\",\" Jamaica\",\" Japan\",\" Malta\",\" Mexico\",\" Monaco\",\" Morocco\",\" Netherlands\",\" Norway\",\" Panama\",\" Portugal\",\" Puerto Rico\",\" Russia\",\" Scotland\",\" Spain\",\" Switzerland\",\" Thailand\",\" Turkey\",\" United States\",\" West Berlin\",\"Japan\",\"Mexico\",\"United Kingdom\"],\"locationmode\":\"country names\",\"locations\":[\" Austria\",\" Azerbaijan\",\" Bahamas\",\" Brazil\",\" Canada\",\" Chile\",\" China\",\" Czech republic\",\" Egypt\",\" France\",\" Germany\",\" Greece\",\" Guatemala\",\" Hong Kong\",\" Iceland\",\" India\",\" Italy\",\" Jamaica\",\" Japan\",\" Malta\",\" Mexico\",\" Monaco\",\" Morocco\",\" Netherlands\",\" Norway\",\" Panama\",\" Portugal\",\" Puerto Rico\",\" Russia\",\" Scotland\",\" Spain\",\" Switzerland\",\" Thailand\",\" Turkey\",\" United States\",\" West Berlin\",\"Japan\",\"Mexico\",\"United Kingdom\"],\"name\":\"\",\"z\":[2,1,3,1,1,1,1,1,1,7,3,1,1,1,2,1,7,2,1,2,1,1,1,1,2,1,2,1,1,4,4,6,2,3,9,1,1,1,21],\"type\":\"choropleth\"}],                        {\"template\":{\"data\":{\"bar\":[{\"error_x\":{\"color\":\"#2a3f5f\"},\"error_y\":{\"color\":\"#2a3f5f\"},\"marker\":{\"line\":{\"color\":\"#E5ECF6\",\"width\":0.5},\"pattern\":{\"fillmode\":\"overlay\",\"size\":10,\"solidity\":0.2}},\"type\":\"bar\"}],\"barpolar\":[{\"marker\":{\"line\":{\"color\":\"#E5ECF6\",\"width\":0.5},\"pattern\":{\"fillmode\":\"overlay\",\"size\":10,\"solidity\":0.2}},\"type\":\"barpolar\"}],\"carpet\":[{\"aaxis\":{\"endlinecolor\":\"#2a3f5f\",\"gridcolor\":\"white\",\"linecolor\":\"white\",\"minorgridcolor\":\"white\",\"startlinecolor\":\"#2a3f5f\"},\"baxis\":{\"endlinecolor\":\"#2a3f5f\",\"gridcolor\":\"white\",\"linecolor\":\"white\",\"minorgridcolor\":\"white\",\"startlinecolor\":\"#2a3f5f\"},\"type\":\"carpet\"}],\"choropleth\":[{\"colorbar\":{\"outlinewidth\":0,\"ticks\":\"\"},\"type\":\"choropleth\"}],\"contour\":[{\"colorbar\":{\"outlinewidth\":0,\"ticks\":\"\"},\"colorscale\":[[0.0,\"#0d0887\"],[0.1111111111111111,\"#46039f\"],[0.2222222222222222,\"#7201a8\"],[0.3333333333333333,\"#9c179e\"],[0.4444444444444444,\"#bd3786\"],[0.5555555555555556,\"#d8576b\"],[0.6666666666666666,\"#ed7953\"],[0.7777777777777778,\"#fb9f3a\"],[0.8888888888888888,\"#fdca26\"],[1.0,\"#f0f921\"]],\"type\":\"contour\"}],\"contourcarpet\":[{\"colorbar\":{\"outlinewidth\":0,\"ticks\":\"\"},\"type\":\"contourcarpet\"}],\"heatmap\":[{\"colorbar\":{\"outlinewidth\":0,\"ticks\":\"\"},\"colorscale\":[[0.0,\"#0d0887\"],[0.1111111111111111,\"#46039f\"],[0.2222222222222222,\"#7201a8\"],[0.3333333333333333,\"#9c179e\"],[0.4444444444444444,\"#bd3786\"],[0.5555555555555556,\"#d8576b\"],[0.6666666666666666,\"#ed7953\"],[0.7777777777777778,\"#fb9f3a\"],[0.8888888888888888,\"#fdca26\"],[1.0,\"#f0f921\"]],\"type\":\"heatmap\"}],\"heatmapgl\":[{\"colorbar\":{\"outlinewidth\":0,\"ticks\":\"\"},\"colorscale\":[[0.0,\"#0d0887\"],[0.1111111111111111,\"#46039f\"],[0.2222222222222222,\"#7201a8\"],[0.3333333333333333,\"#9c179e\"],[0.4444444444444444,\"#bd3786\"],[0.5555555555555556,\"#d8576b\"],[0.6666666666666666,\"#ed7953\"],[0.7777777777777778,\"#fb9f3a\"],[0.8888888888888888,\"#fdca26\"],[1.0,\"#f0f921\"]],\"type\":\"heatmapgl\"}],\"histogram\":[{\"marker\":{\"pattern\":{\"fillmode\":\"overlay\",\"size\":10,\"solidity\":0.2}},\"type\":\"histogram\"}],\"histogram2d\":[{\"colorbar\":{\"outlinewidth\":0,\"ticks\":\"\"},\"colorscale\":[[0.0,\"#0d0887\"],[0.1111111111111111,\"#46039f\"],[0.2222222222222222,\"#7201a8\"],[0.3333333333333333,\"#9c179e\"],[0.4444444444444444,\"#bd3786\"],[0.5555555555555556,\"#d8576b\"],[0.6666666666666666,\"#ed7953\"],[0.7777777777777778,\"#fb9f3a\"],[0.8888888888888888,\"#fdca26\"],[1.0,\"#f0f921\"]],\"type\":\"histogram2d\"}],\"histogram2dcontour\":[{\"colorbar\":{\"outlinewidth\":0,\"ticks\":\"\"},\"colorscale\":[[0.0,\"#0d0887\"],[0.1111111111111111,\"#46039f\"],[0.2222222222222222,\"#7201a8\"],[0.3333333333333333,\"#9c179e\"],[0.4444444444444444,\"#bd3786\"],[0.5555555555555556,\"#d8576b\"],[0.6666666666666666,\"#ed7953\"],[0.7777777777777778,\"#fb9f3a\"],[0.8888888888888888,\"#fdca26\"],[1.0,\"#f0f921\"]],\"type\":\"histogram2dcontour\"}],\"mesh3d\":[{\"colorbar\":{\"outlinewidth\":0,\"ticks\":\"\"},\"type\":\"mesh3d\"}],\"parcoords\":[{\"line\":{\"colorbar\":{\"outlinewidth\":0,\"ticks\":\"\"}},\"type\":\"parcoords\"}],\"pie\":[{\"automargin\":true,\"type\":\"pie\"}],\"scatter\":[{\"marker\":{\"colorbar\":{\"outlinewidth\":0,\"ticks\":\"\"}},\"type\":\"scatter\"}],\"scatter3d\":[{\"line\":{\"colorbar\":{\"outlinewidth\":0,\"ticks\":\"\"}},\"marker\":{\"colorbar\":{\"outlinewidth\":0,\"ticks\":\"\"}},\"type\":\"scatter3d\"}],\"scattercarpet\":[{\"marker\":{\"colorbar\":{\"outlinewidth\":0,\"ticks\":\"\"}},\"type\":\"scattercarpet\"}],\"scattergeo\":[{\"marker\":{\"colorbar\":{\"outlinewidth\":0,\"ticks\":\"\"}},\"type\":\"scattergeo\"}],\"scattergl\":[{\"marker\":{\"colorbar\":{\"outlinewidth\":0,\"ticks\":\"\"}},\"type\":\"scattergl\"}],\"scattermapbox\":[{\"marker\":{\"colorbar\":{\"outlinewidth\":0,\"ticks\":\"\"}},\"type\":\"scattermapbox\"}],\"scatterpolar\":[{\"marker\":{\"colorbar\":{\"outlinewidth\":0,\"ticks\":\"\"}},\"type\":\"scatterpolar\"}],\"scatterpolargl\":[{\"marker\":{\"colorbar\":{\"outlinewidth\":0,\"ticks\":\"\"}},\"type\":\"scatterpolargl\"}],\"scatterternary\":[{\"marker\":{\"colorbar\":{\"outlinewidth\":0,\"ticks\":\"\"}},\"type\":\"scatterternary\"}],\"surface\":[{\"colorbar\":{\"outlinewidth\":0,\"ticks\":\"\"},\"colorscale\":[[0.0,\"#0d0887\"],[0.1111111111111111,\"#46039f\"],[0.2222222222222222,\"#7201a8\"],[0.3333333333333333,\"#9c179e\"],[0.4444444444444444,\"#bd3786\"],[0.5555555555555556,\"#d8576b\"],[0.6666666666666666,\"#ed7953\"],[0.7777777777777778,\"#fb9f3a\"],[0.8888888888888888,\"#fdca26\"],[1.0,\"#f0f921\"]],\"type\":\"surface\"}],\"table\":[{\"cells\":{\"fill\":{\"color\":\"#EBF0F8\"},\"line\":{\"color\":\"white\"}},\"header\":{\"fill\":{\"color\":\"#C8D4E3\"},\"line\":{\"color\":\"white\"}},\"type\":\"table\"}]},\"layout\":{\"annotationdefaults\":{\"arrowcolor\":\"#2a3f5f\",\"arrowhead\":0,\"arrowwidth\":1},\"autotypenumbers\":\"strict\",\"coloraxis\":{\"colorbar\":{\"outlinewidth\":0,\"ticks\":\"\"}},\"colorscale\":{\"diverging\":[[0,\"#8e0152\"],[0.1,\"#c51b7d\"],[0.2,\"#de77ae\"],[0.3,\"#f1b6da\"],[0.4,\"#fde0ef\"],[0.5,\"#f7f7f7\"],[0.6,\"#e6f5d0\"],[0.7,\"#b8e186\"],[0.8,\"#7fbc41\"],[0.9,\"#4d9221\"],[1,\"#276419\"]],\"sequential\":[[0.0,\"#0d0887\"],[0.1111111111111111,\"#46039f\"],[0.2222222222222222,\"#7201a8\"],[0.3333333333333333,\"#9c179e\"],[0.4444444444444444,\"#bd3786\"],[0.5555555555555556,\"#d8576b\"],[0.6666666666666666,\"#ed7953\"],[0.7777777777777778,\"#fb9f3a\"],[0.8888888888888888,\"#fdca26\"],[1.0,\"#f0f921\"]],\"sequentialminus\":[[0.0,\"#0d0887\"],[0.1111111111111111,\"#46039f\"],[0.2222222222222222,\"#7201a8\"],[0.3333333333333333,\"#9c179e\"],[0.4444444444444444,\"#bd3786\"],[0.5555555555555556,\"#d8576b\"],[0.6666666666666666,\"#ed7953\"],[0.7777777777777778,\"#fb9f3a\"],[0.8888888888888888,\"#fdca26\"],[1.0,\"#f0f921\"]]},\"colorway\":[\"#636efa\",\"#EF553B\",\"#00cc96\",\"#ab63fa\",\"#FFA15A\",\"#19d3f3\",\"#FF6692\",\"#B6E880\",\"#FF97FF\",\"#FECB52\"],\"font\":{\"color\":\"#2a3f5f\"},\"geo\":{\"bgcolor\":\"white\",\"lakecolor\":\"white\",\"landcolor\":\"#E5ECF6\",\"showlakes\":true,\"showland\":true,\"subunitcolor\":\"white\"},\"hoverlabel\":{\"align\":\"left\"},\"hovermode\":\"closest\",\"mapbox\":{\"style\":\"light\"},\"paper_bgcolor\":\"white\",\"plot_bgcolor\":\"#E5ECF6\",\"polar\":{\"angularaxis\":{\"gridcolor\":\"white\",\"linecolor\":\"white\",\"ticks\":\"\"},\"bgcolor\":\"#E5ECF6\",\"radialaxis\":{\"gridcolor\":\"white\",\"linecolor\":\"white\",\"ticks\":\"\"}},\"scene\":{\"xaxis\":{\"backgroundcolor\":\"#E5ECF6\",\"gridcolor\":\"white\",\"gridwidth\":2,\"linecolor\":\"white\",\"showbackground\":true,\"ticks\":\"\",\"zerolinecolor\":\"white\"},\"yaxis\":{\"backgroundcolor\":\"#E5ECF6\",\"gridcolor\":\"white\",\"gridwidth\":2,\"linecolor\":\"white\",\"showbackground\":true,\"ticks\":\"\",\"zerolinecolor\":\"white\"},\"zaxis\":{\"backgroundcolor\":\"#E5ECF6\",\"gridcolor\":\"white\",\"gridwidth\":2,\"linecolor\":\"white\",\"showbackground\":true,\"ticks\":\"\",\"zerolinecolor\":\"white\"}},\"shapedefaults\":{\"line\":{\"color\":\"#2a3f5f\"}},\"ternary\":{\"aaxis\":{\"gridcolor\":\"white\",\"linecolor\":\"white\",\"ticks\":\"\"},\"baxis\":{\"gridcolor\":\"white\",\"linecolor\":\"white\",\"ticks\":\"\"},\"bgcolor\":\"#E5ECF6\",\"caxis\":{\"gridcolor\":\"white\",\"linecolor\":\"white\",\"ticks\":\"\"}},\"title\":{\"x\":0.05},\"xaxis\":{\"automargin\":true,\"gridcolor\":\"white\",\"linecolor\":\"white\",\"ticks\":\"\",\"title\":{\"standoff\":15},\"zerolinecolor\":\"white\",\"zerolinewidth\":2},\"yaxis\":{\"automargin\":true,\"gridcolor\":\"white\",\"linecolor\":\"white\",\"ticks\":\"\",\"title\":{\"standoff\":15},\"zerolinecolor\":\"white\",\"zerolinewidth\":2}}},\"geo\":{\"domain\":{\"x\":[0.0,1.0],\"y\":[0.0,1.0]},\"center\":{}},\"coloraxis\":{\"colorbar\":{\"title\":{\"text\":\"Appearance\"}},\"colorscale\":[[0.0,\"rgb(246, 210, 169)\"],[0.16666666666666666,\"rgb(245, 183, 142)\"],[0.3333333333333333,\"rgb(241, 156, 124)\"],[0.5,\"rgb(234, 129, 113)\"],[0.6666666666666666,\"rgb(221, 104, 108)\"],[0.8333333333333334,\"rgb(202, 82, 104)\"],[1.0,\"rgb(177, 63, 100)\"]]},\"legend\":{\"tracegroupgap\":0},\"title\":{\"text\":\"Locations in James Bond movies\"}},                        {\"responsive\": true}                    ).then(function(){\n",
       "                            \n",
       "var gd = document.getElementById('69568a9e-5ff2-4aa8-ac71-7665a21f0c86');\n",
       "var x = new MutationObserver(function (mutations, observer) {{\n",
       "        var display = window.getComputedStyle(gd).display;\n",
       "        if (!display || display === 'none') {{\n",
       "            console.log([gd, 'removed!']);\n",
       "            Plotly.purge(gd);\n",
       "            observer.disconnect();\n",
       "        }}\n",
       "}});\n",
       "\n",
       "// Listen for the removal of the full notebook cells\n",
       "var notebookContainer = gd.closest('#notebook-container');\n",
       "if (notebookContainer) {{\n",
       "    x.observe(notebookContainer, {childList: true});\n",
       "}}\n",
       "\n",
       "// Listen for the clearing of the current output cell\n",
       "var outputEl = gd.closest('.output');\n",
       "if (outputEl) {{\n",
       "    x.observe(outputEl, {childList: true});\n",
       "}}\n",
       "\n",
       "                        })                };                });            </script>        </div>"
      ]
     },
     "metadata": {},
     "output_type": "display_data"
    }
   ],
   "source": [
    "px.choropleth(df_loc,\n",
    "              locations = 'Country',\n",
    "              locationmode= 'country names',\n",
    "              color = 'Appearance',\n",
    "              hover_name = 'Country',\n",
    "              hover_data = {'Country': False},\n",
    "              title = 'Locations in James Bond movies',\n",
    "              color_continuous_scale = px.colors.sequential.Redor,\n",
    "              #projection='equirectangular'\n",
    ")"
   ]
  }
 ],
 "metadata": {
  "kernelspec": {
   "display_name": "Python 3 (ipykernel)",
   "language": "python",
   "name": "python3"
  },
  "language_info": {
   "codemirror_mode": {
    "name": "ipython",
    "version": 3
   },
   "file_extension": ".py",
   "mimetype": "text/x-python",
   "name": "python",
   "nbconvert_exporter": "python",
   "pygments_lexer": "ipython3",
   "version": "3.9.2"
  }
 },
 "nbformat": 4,
 "nbformat_minor": 5
}
